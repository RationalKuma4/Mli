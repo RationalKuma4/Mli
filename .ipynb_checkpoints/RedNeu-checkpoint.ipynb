{
 "cells": [
  {
   "cell_type": "code",
   "execution_count": 1,
   "metadata": {},
   "outputs": [],
   "source": [
    "import tensorflow as tf\n",
    "from tensorflow import keras\n",
    "import numpy as np\n",
    "import matplotlib.pyplot as plt\n",
    "from tensorflow.keras import layers\n",
    "from tensorflow.keras.callbacks import ModelCheckpoint"
   ]
  },
  {
   "cell_type": "code",
   "execution_count": 2,
   "metadata": {},
   "outputs": [],
   "source": [
    "mnist = tf.keras.datasets.mnist\n",
    "(x_train, y_train),(x_test, y_test) = mnist.load_data()"
   ]
  },
  {
   "cell_type": "code",
   "execution_count": 3,
   "metadata": {},
   "outputs": [
    {
     "data": {
      "text/plain": [
       "(60000, 28, 28)"
      ]
     },
     "execution_count": 3,
     "metadata": {},
     "output_type": "execute_result"
    }
   ],
   "source": [
    "x_train.shape"
   ]
  },
  {
   "cell_type": "code",
   "execution_count": 4,
   "metadata": {},
   "outputs": [
    {
     "data": {
      "text/plain": [
       "(60000,)"
      ]
     },
     "execution_count": 4,
     "metadata": {},
     "output_type": "execute_result"
    }
   ],
   "source": [
    "y_train.shape"
   ]
  },
  {
   "cell_type": "code",
   "execution_count": 5,
   "metadata": {},
   "outputs": [
    {
     "data": {
      "text/plain": [
       "'1'"
      ]
     },
     "execution_count": 5,
     "metadata": {},
     "output_type": "execute_result"
    }
   ],
   "source": [
    "class_names = [\"0\", \"1\", \"2\", \"3\", \"4\",\n",
    "                   \"5\", \"7\", \"8\", \"9\"]\n",
    "class_names[(y_train[6])]"
   ]
  },
  {
   "cell_type": "code",
   "execution_count": 6,
   "metadata": {},
   "outputs": [
    {
     "data": {
      "image/png": "[encoded data removed]",
      "text/plain": [
       "<Figure size 720x720 with 25 Axes>"
      ]
     },
     "metadata": {},
     "output_type": "display_data"
    }
   ],
   "source": [
    "plt.figure(figsize=(10,10))\n",
    "for i in range(0,25):\n",
    "    plt.subplot(5,5, i+1)\n",
    "    plt.imshow(x_train[i])\n",
    "    #plt.imshow(X_train_full[i], cmap=plt.cm.binary)\n",
    "    plt.grid(False)\n",
    "    plt.xticks([])\n",
    "    plt.yticks([])\n",
    "plt.show()"
   ]
  },
  {
   "cell_type": "code",
   "execution_count": 7,
   "metadata": {},
   "outputs": [],
   "source": [
    "x_train=x_train/9\n",
    "x_test=x_test/9"
   ]
  },
  {
   "cell_type": "code",
   "execution_count": 8,
   "metadata": {},
   "outputs": [],
   "source": [
    "X_train=x_train[:55000]\n",
    "Y_train=y_train[:55000]\n",
    "\n",
    "X_validation=x_train[55000:]\n",
    "Y_validation=y_train[55000:]"
   ]
  },
  {
   "cell_type": "code",
   "execution_count": 9,
   "metadata": {},
   "outputs": [
    {
     "data": {
      "text/plain": [
       "(5000, 28, 28)"
      ]
     },
     "execution_count": 9,
     "metadata": {},
     "output_type": "execute_result"
    }
   ],
   "source": [
    "X_validation.shape"
   ]
  },
  {
   "cell_type": "code",
   "execution_count": 10,
   "metadata": {},
   "outputs": [
    {
     "data": {
      "text/plain": [
       "(55000, 28, 28)"
      ]
     },
     "execution_count": 10,
     "metadata": {},
     "output_type": "execute_result"
    }
   ],
   "source": [
    "X_train.shape"
   ]
  },
  {
   "cell_type": "code",
   "execution_count": 11,
   "metadata": {},
   "outputs": [],
   "source": [
    "model=keras.models.Sequential()\n",
    "model.add(layers.Flatten(input_shape=[28,28], name='faltten_layer'))\n",
    "model.add(layers.Dense(units=500, activation=\"relu\", name='hl0'))\n",
    "model.add(layers.Dense(units=500, activation=\"relu\", name='hl1'))\n",
    "model.add(layers.Dense(units=500, activation=\"relu\", name='hl2'))\n",
    "model.add(layers.Dense(units=500, activation=\"relu\", name='hl3'))\n",
    "model.add(layers.Dense(units=10, activation=\"softmax\", name='output_layer'))"
   ]
  },
  {
   "cell_type": "code",
   "execution_count": 12,
   "metadata": {},
   "outputs": [
    {
     "name": "stdout",
     "output_type": "stream",
     "text": [
      "Model: \"sequential\"\n",
      "_________________________________________________________________\n",
      "Layer (type)                 Output Shape              Param #   \n",
      "=================================================================\n",
      "faltten_layer (Flatten)      (None, 784)               0         \n",
      "_________________________________________________________________\n",
      "hl0 (Dense)                  (None, 500)               392500    \n",
      "_________________________________________________________________\n",
      "hl1 (Dense)                  (None, 500)               250500    \n",
      "_________________________________________________________________\n",
      "hl2 (Dense)                  (None, 500)               250500    \n",
      "_________________________________________________________________\n",
      "hl3 (Dense)                  (None, 500)               250500    \n",
      "_________________________________________________________________\n",
      "output_layer (Dense)         (None, 10)                5010      \n",
      "=================================================================\n",
      "Total params: 1,149,010\n",
      "Trainable params: 1,149,010\n",
      "Non-trainable params: 0\n",
      "_________________________________________________________________\n"
     ]
    }
   ],
   "source": [
    "model.summary()"
   ]
  },
  {
   "cell_type": "code",
   "execution_count": 14,
   "metadata": {},
   "outputs": [
    {
     "data": {
      "text/plain": [
       "[<tensorflow.python.keras.layers.core.Flatten at 0x13918d84d30>,\n",
       " <tensorflow.python.keras.layers.core.Dense at 0x13918d844e0>,\n",
       " <tensorflow.python.keras.layers.core.Dense at 0x1391ccb4828>,\n",
       " <tensorflow.python.keras.layers.core.Dense at 0x13918de67b8>,\n",
       " <tensorflow.python.keras.layers.core.Dense at 0x13918de6d30>,\n",
       " <tensorflow.python.keras.layers.core.Dense at 0x13918e0fc50>]"
      ]
     },
     "execution_count": 14,
     "metadata": {},
     "output_type": "execute_result"
    }
   ],
   "source": [
    "model.layers"
   ]
  },
  {
   "cell_type": "code",
   "execution_count": 17,
   "metadata": {},
   "outputs": [],
   "source": [
    "model.compile(loss='sparse_categorical_crossentropy',\n",
    "              optimizer='sgd',\n",
    "              metrics=['accuracy'])"
   ]
  },
  {
   "cell_type": "code",
   "execution_count": 20,
   "metadata": {},
   "outputs": [
    {
     "name": "stdout",
     "output_type": "stream",
     "text": [
      "Train on 49500 samples, validate on 5500 samples\n",
      "Epoch 1/80\n",
      "49500/49500 [==============================] - 7s 141us/sample - loss: 0.4186 - accuracy: 0.8720 - val_loss: 0.2698 - val_accuracy: 0.9187\n",
      "Epoch 2/80\n",
      "49500/49500 [==============================] - 7s 148us/sample - loss: 0.1964 - accuracy: 0.9410 - val_loss: 0.2008 - val_accuracy: 0.9422\n",
      "Epoch 3/80\n",
      "49500/49500 [==============================] - 8s 153us/sample - loss: 0.1441 - accuracy: 0.9569 - val_loss: 0.1837 - val_accuracy: 0.9496\n",
      "Epoch 4/80\n",
      "49500/49500 [==============================] - 6s 123us/sample - loss: 0.1134 - accuracy: 0.9664 - val_loss: 0.1652 - val_accuracy: 0.9536\n",
      "Epoch 5/80\n",
      "49500/49500 [==============================] - 6s 124us/sample - loss: 0.0922 - accuracy: 0.9735 - val_loss: 0.1570 - val_accuracy: 0.9565\n",
      "Epoch 6/80\n",
      "49500/49500 [==============================] - 6s 129us/sample - loss: 0.0767 - accuracy: 0.9780 - val_loss: 0.1484 - val_accuracy: 0.9585\n",
      "Epoch 7/80\n",
      "49500/49500 [==============================] - 6s 128us/sample - loss: 0.0644 - accuracy: 0.9824 - val_loss: 0.1433 - val_accuracy: 0.9609\n",
      "Epoch 8/80\n",
      "49500/49500 [==============================] - 6s 131us/sample - loss: 0.0542 - accuracy: 0.9860 - val_loss: 0.1445 - val_accuracy: 0.9595\n",
      "Epoch 9/80\n",
      "49500/49500 [==============================] - 6s 129us/sample - loss: 0.0462 - accuracy: 0.9887 - val_loss: 0.1381 - val_accuracy: 0.9611\n",
      "Epoch 10/80\n",
      "49500/49500 [==============================] - 7s 137us/sample - loss: 0.0398 - accuracy: 0.9907 - val_loss: 0.1344 - val_accuracy: 0.9625\n",
      "Epoch 11/80\n",
      "49500/49500 [==============================] - 7s 134us/sample - loss: 0.0342 - accuracy: 0.9927 - val_loss: 0.1363 - val_accuracy: 0.9620\n",
      "Epoch 12/80\n",
      "49500/49500 [==============================] - 6s 128us/sample - loss: 0.0296 - accuracy: 0.9943 - val_loss: 0.1307 - val_accuracy: 0.9642\n",
      "Epoch 13/80\n",
      "49500/49500 [==============================] - 7s 134us/sample - loss: 0.0259 - accuracy: 0.9954 - val_loss: 0.1376 - val_accuracy: 0.9636\n",
      "Epoch 14/80\n",
      "49500/49500 [==============================] - 7s 132us/sample - loss: 0.0226 - accuracy: 0.9966 - val_loss: 0.1307 - val_accuracy: 0.9658\n",
      "Epoch 15/80\n",
      "49500/49500 [==============================] - 6s 131us/sample - loss: 0.0196 - accuracy: 0.9974 - val_loss: 0.1318 - val_accuracy: 0.9662\n",
      "Epoch 16/80\n",
      "49500/49500 [==============================] - 6s 126us/sample - loss: 0.0174 - accuracy: 0.9976 - val_loss: 0.1290 - val_accuracy: 0.9644\n",
      "Epoch 17/80\n",
      "49500/49500 [==============================] - 7s 131us/sample - loss: 0.0154 - accuracy: 0.9982 - val_loss: 0.1309 - val_accuracy: 0.9651\n",
      "Epoch 18/80\n",
      "49500/49500 [==============================] - 6s 129us/sample - loss: 0.0137 - accuracy: 0.9987 - val_loss: 0.1278 - val_accuracy: 0.9655\n",
      "Epoch 19/80\n",
      "49500/49500 [==============================] - 6s 126us/sample - loss: 0.0121 - accuracy: 0.9991 - val_loss: 0.1301 - val_accuracy: 0.9658\n",
      "Epoch 20/80\n",
      "49500/49500 [==============================] - 6s 123us/sample - loss: 0.0108 - accuracy: 0.9994 - val_loss: 0.1313 - val_accuracy: 0.9655\n",
      "Epoch 21/80\n",
      "49500/49500 [==============================] - 6s 130us/sample - loss: 0.0099 - accuracy: 0.9995 - val_loss: 0.1304 - val_accuracy: 0.9651\n",
      "Epoch 22/80\n",
      "49500/49500 [==============================] - 6s 129us/sample - loss: 0.0090 - accuracy: 0.9996 - val_loss: 0.1316 - val_accuracy: 0.9656\n",
      "Epoch 23/80\n",
      "49500/49500 [==============================] - 7s 133us/sample - loss: 0.0082 - accuracy: 0.9996 - val_loss: 0.1320 - val_accuracy: 0.9669\n",
      "Epoch 24/80\n",
      "49500/49500 [==============================] - 6s 130us/sample - loss: 0.0075 - accuracy: 0.9997 - val_loss: 0.1295 - val_accuracy: 0.9662\n",
      "Epoch 25/80\n",
      "49500/49500 [==============================] - 6s 128us/sample - loss: 0.0069 - accuracy: 0.9998 - val_loss: 0.1311 - val_accuracy: 0.9664\n",
      "Epoch 26/80\n",
      "49500/49500 [==============================] - 6s 130us/sample - loss: 0.0064 - accuracy: 0.9998 - val_loss: 0.1323 - val_accuracy: 0.9665\n",
      "Epoch 27/80\n",
      "49500/49500 [==============================] - 7s 133us/sample - loss: 0.0059 - accuracy: 0.9999 - val_loss: 0.1320 - val_accuracy: 0.9664\n",
      "Epoch 28/80\n",
      "49500/49500 [==============================] - 6s 129us/sample - loss: 0.0055 - accuracy: 1.0000 - val_loss: 0.1327 - val_accuracy: 0.9667\n",
      "Epoch 29/80\n",
      "49500/49500 [==============================] - 6s 129us/sample - loss: 0.0051 - accuracy: 1.0000 - val_loss: 0.1330 - val_accuracy: 0.9656\n",
      "Epoch 30/80\n",
      "49500/49500 [==============================] - 6s 129us/sample - loss: 0.0049 - accuracy: 0.9999 - val_loss: 0.1329 - val_accuracy: 0.9667\n",
      "Epoch 31/80\n",
      "49500/49500 [==============================] - 6s 130us/sample - loss: 0.0046 - accuracy: 0.9999 - val_loss: 0.1337 - val_accuracy: 0.9667\n",
      "Epoch 32/80\n",
      "49500/49500 [==============================] - 6s 129us/sample - loss: 0.0043 - accuracy: 1.0000 - val_loss: 0.1346 - val_accuracy: 0.9673\n",
      "Epoch 33/80\n",
      "49500/49500 [==============================] - 7s 132us/sample - loss: 0.0041 - accuracy: 1.0000 - val_loss: 0.1359 - val_accuracy: 0.9664\n",
      "Epoch 34/80\n",
      "49500/49500 [==============================] - 6s 131us/sample - loss: 0.0038 - accuracy: 1.0000 - val_loss: 0.1362 - val_accuracy: 0.9664\n",
      "Epoch 35/80\n",
      "49500/49500 [==============================] - 6s 130us/sample - loss: 0.0037 - accuracy: 1.0000 - val_loss: 0.1349 - val_accuracy: 0.9676\n",
      "Epoch 36/80\n",
      "49500/49500 [==============================] - 6s 131us/sample - loss: 0.0035 - accuracy: 1.0000 - val_loss: 0.1356 - val_accuracy: 0.9671\n",
      "Epoch 37/80\n",
      "49500/49500 [==============================] - 7s 132us/sample - loss: 0.0033 - accuracy: 1.0000 - val_loss: 0.1357 - val_accuracy: 0.9669\n",
      "Epoch 38/80\n",
      "49500/49500 [==============================] - 7s 135us/sample - loss: 0.0032 - accuracy: 1.0000 - val_loss: 0.1363 - val_accuracy: 0.9680\n",
      "Epoch 39/80\n",
      "49500/49500 [==============================] - 6s 131us/sample - loss: 0.0030 - accuracy: 1.0000 - val_loss: 0.1369 - val_accuracy: 0.9678\n",
      "Epoch 40/80\n",
      "49500/49500 [==============================] - 6s 130us/sample - loss: 0.0029 - accuracy: 1.0000 - val_loss: 0.1374 - val_accuracy: 0.9664\n",
      "Epoch 41/80\n",
      "49500/49500 [==============================] - 6s 130us/sample - loss: 0.0028 - accuracy: 1.0000 - val_loss: 0.1377 - val_accuracy: 0.9665\n",
      "Epoch 42/80\n",
      "49500/49500 [==============================] - 6s 129us/sample - loss: 0.0027 - accuracy: 1.0000 - val_loss: 0.1385 - val_accuracy: 0.9667\n",
      "Epoch 43/80\n",
      "49500/49500 [==============================] - 6s 130us/sample - loss: 0.0026 - accuracy: 1.0000 - val_loss: 0.1384 - val_accuracy: 0.9680\n",
      "Epoch 44/80\n",
      "49500/49500 [==============================] - 7s 135us/sample - loss: 0.0025 - accuracy: 1.0000 - val_loss: 0.1382 - val_accuracy: 0.9676\n",
      "Epoch 45/80\n",
      "49500/49500 [==============================] - 6s 129us/sample - loss: 0.0024 - accuracy: 1.0000 - val_loss: 0.1394 - val_accuracy: 0.9675\n",
      "Epoch 46/80\n",
      "49500/49500 [==============================] - 6s 129us/sample - loss: 0.0023 - accuracy: 1.0000 - val_loss: 0.1390 - val_accuracy: 0.9678\n",
      "Epoch 47/80\n",
      "49500/49500 [==============================] - 7s 131us/sample - loss: 0.0022 - accuracy: 1.0000 - val_loss: 0.1399 - val_accuracy: 0.9680\n",
      "Epoch 48/80\n",
      "49500/49500 [==============================] - 7s 132us/sample - loss: 0.0021 - accuracy: 1.0000 - val_loss: 0.1398 - val_accuracy: 0.9671\n",
      "Epoch 49/80\n",
      "49500/49500 [==============================] - 6s 128us/sample - loss: 0.0021 - accuracy: 1.0000 - val_loss: 0.1398 - val_accuracy: 0.9682\n",
      "Epoch 50/80\n",
      "49500/49500 [==============================] - 6s 130us/sample - loss: 0.0020 - accuracy: 1.0000 - val_loss: 0.1404 - val_accuracy: 0.9675\n",
      "Epoch 51/80\n",
      "49500/49500 [==============================] - 6s 131us/sample - loss: 0.0020 - accuracy: 1.0000 - val_loss: 0.1409 - val_accuracy: 0.9680\n",
      "Epoch 52/80\n",
      "49500/49500 [==============================] - 6s 130us/sample - loss: 0.0019 - accuracy: 1.0000 - val_loss: 0.1410 - val_accuracy: 0.9676\n",
      "Epoch 53/80\n",
      "49500/49500 [==============================] - 6s 129us/sample - loss: 0.0018 - accuracy: 1.0000 - val_loss: 0.1408 - val_accuracy: 0.9676\n",
      "Epoch 54/80\n",
      "49500/49500 [==============================] - 7s 134us/sample - loss: 0.0018 - accuracy: 1.0000 - val_loss: 0.1415 - val_accuracy: 0.9669\n"
     ]
    },
    {
     "name": "stdout",
     "output_type": "stream",
     "text": [
      "Epoch 55/80\n",
      "49500/49500 [==============================] - 6s 128us/sample - loss: 0.0017 - accuracy: 1.0000 - val_loss: 0.1413 - val_accuracy: 0.9676\n",
      "Epoch 56/80\n",
      "49500/49500 [==============================] - 6s 128us/sample - loss: 0.0017 - accuracy: 1.0000 - val_loss: 0.1421 - val_accuracy: 0.9682\n",
      "Epoch 57/80\n",
      "49500/49500 [==============================] - 6s 125us/sample - loss: 0.0016 - accuracy: 1.0000 - val_loss: 0.1425 - val_accuracy: 0.9680\n",
      "Epoch 58/80\n",
      "49500/49500 [==============================] - 6s 125us/sample - loss: 0.0016 - accuracy: 1.0000 - val_loss: 0.1424 - val_accuracy: 0.9675\n",
      "Epoch 59/80\n",
      "49500/49500 [==============================] - 6s 124us/sample - loss: 0.0016 - accuracy: 1.0000 - val_loss: 0.1433 - val_accuracy: 0.9673\n",
      "Epoch 60/80\n",
      "49500/49500 [==============================] - 6s 119us/sample - loss: 0.0015 - accuracy: 1.0000 - val_loss: 0.1431 - val_accuracy: 0.9678\n",
      "Epoch 61/80\n",
      "49500/49500 [==============================] - 5s 110us/sample - loss: 0.0015 - accuracy: 1.0000 - val_loss: 0.1438 - val_accuracy: 0.9678\n",
      "Epoch 62/80\n",
      "49500/49500 [==============================] - 6s 111us/sample - loss: 0.0014 - accuracy: 1.0000 - val_loss: 0.1437 - val_accuracy: 0.9680\n",
      "Epoch 63/80\n",
      "49500/49500 [==============================] - 6s 113us/sample - loss: 0.0014 - accuracy: 1.0000 - val_loss: 0.1437 - val_accuracy: 0.9680\n",
      "Epoch 64/80\n",
      "49500/49500 [==============================] - 6s 120us/sample - loss: 0.0014 - accuracy: 1.0000 - val_loss: 0.1443 - val_accuracy: 0.9680\n",
      "Epoch 65/80\n",
      "49500/49500 [==============================] - 6s 122us/sample - loss: 0.0013 - accuracy: 1.0000 - val_loss: 0.1442 - val_accuracy: 0.9675\n",
      "Epoch 66/80\n",
      "49500/49500 [==============================] - 6s 131us/sample - loss: 0.0013 - accuracy: 1.0000 - val_loss: 0.1439 - val_accuracy: 0.9684\n",
      "Epoch 67/80\n",
      "49500/49500 [==============================] - 6s 129us/sample - loss: 0.0013 - accuracy: 1.0000 - val_loss: 0.1451 - val_accuracy: 0.9680\n",
      "Epoch 68/80\n",
      "49500/49500 [==============================] - 7s 132us/sample - loss: 0.0013 - accuracy: 1.0000 - val_loss: 0.1449 - val_accuracy: 0.9691\n",
      "Epoch 69/80\n",
      "49500/49500 [==============================] - 7s 135us/sample - loss: 0.0012 - accuracy: 1.0000 - val_loss: 0.1451 - val_accuracy: 0.9676\n",
      "Epoch 70/80\n",
      "49500/49500 [==============================] - 6s 125us/sample - loss: 0.0012 - accuracy: 1.0000 - val_loss: 0.1451 - val_accuracy: 0.9684\n",
      "Epoch 71/80\n",
      "49500/49500 [==============================] - 6s 124us/sample - loss: 0.0012 - accuracy: 1.0000 - val_loss: 0.1455 - val_accuracy: 0.9680\n",
      "Epoch 72/80\n",
      "49500/49500 [==============================] - 6s 114us/sample - loss: 0.0012 - accuracy: 1.0000 - val_loss: 0.1463 - val_accuracy: 0.9680\n",
      "Epoch 73/80\n",
      "49500/49500 [==============================] - 6s 114us/sample - loss: 0.0011 - accuracy: 1.0000 - val_loss: 0.1457 - val_accuracy: 0.9685\n",
      "Epoch 74/80\n",
      "49500/49500 [==============================] - 6s 118us/sample - loss: 0.0011 - accuracy: 1.0000 - val_loss: 0.1460 - val_accuracy: 0.9680\n",
      "Epoch 75/80\n",
      "49500/49500 [==============================] - 6s 116us/sample - loss: 0.0011 - accuracy: 1.0000 - val_loss: 0.1465 - val_accuracy: 0.9687\n",
      "Epoch 76/80\n",
      "49500/49500 [==============================] - 6s 117us/sample - loss: 0.0011 - accuracy: 1.0000 - val_loss: 0.1461 - val_accuracy: 0.9687\n",
      "Epoch 77/80\n",
      "49500/49500 [==============================] - 6s 115us/sample - loss: 0.0011 - accuracy: 1.0000 - val_loss: 0.1469 - val_accuracy: 0.9689\n",
      "Epoch 78/80\n",
      "49500/49500 [==============================] - 6s 130us/sample - loss: 0.0010 - accuracy: 1.0000 - val_loss: 0.1469 - val_accuracy: 0.9685\n",
      "Epoch 79/80\n",
      "49500/49500 [==============================] - 6s 121us/sample - loss: 0.0010 - accuracy: 1.0000 - val_loss: 0.1472 - val_accuracy: 0.9687\n",
      "Epoch 80/80\n",
      "49500/49500 [==============================] - 6s 123us/sample - loss: 9.9212e-04 - accuracy: 1.0000 - val_loss: 0.1466 - val_accuracy: 0.9689\n"
     ]
    }
   ],
   "source": [
    "history = model.fit(X_train, Y_train,\n",
    "                    epochs=80,\n",
    "                    batch_size=32,\n",
    "                    validation_split=0.1)"
   ]
  },
  {
   "cell_type": "code",
   "execution_count": 21,
   "metadata": {},
   "outputs": [
    {
     "data": {
      "image/png": "[encoded data removed]",
      "text/plain": [
       "<Figure size 1080x576 with 1 Axes>"
      ]
     },
     "metadata": {
      "needs_background": "light"
     },
     "output_type": "display_data"
    }
   ],
   "source": [
    "import pandas as pd\n",
    "pd.DataFrame(history.history).plot(figsize=(15, 8))\n",
    "plt.grid(True)\n",
    "plt.gca().set_ylim(0, 1) # set the vertical range to [0-1]\n",
    "plt.show()"
   ]
  },
  {
   "cell_type": "code",
   "execution_count": 22,
   "metadata": {},
   "outputs": [
    {
     "name": "stdout",
     "output_type": "stream",
     "text": [
      "Train on 49500 samples, validate on 5500 samples\n",
      "Epoch 51/100\n",
      "49500/49500 [==============================] - 6s 125us/sample - loss: 9.7752e-04 - accuracy: 1.0000 - val_loss: 0.1474 - val_accuracy: 0.9689\n",
      "Epoch 52/100\n",
      "49500/49500 [==============================] - 6s 119us/sample - loss: 9.5882e-04 - accuracy: 1.0000 - val_loss: 0.1474 - val_accuracy: 0.9689\n",
      "Epoch 53/100\n",
      "49500/49500 [==============================] - 6s 122us/sample - loss: 9.4292e-04 - accuracy: 1.0000 - val_loss: 0.1480 - val_accuracy: 0.9691\n",
      "Epoch 54/100\n",
      "49500/49500 [==============================] - 6s 118us/sample - loss: 9.2647e-04 - accuracy: 1.0000 - val_loss: 0.1484 - val_accuracy: 0.9689\n",
      "Epoch 55/100\n",
      "49500/49500 [==============================] - 6s 117us/sample - loss: 9.1151e-04 - accuracy: 1.0000 - val_loss: 0.1484 - val_accuracy: 0.9687\n",
      "Epoch 56/100\n",
      "49500/49500 [==============================] - 6s 125us/sample - loss: 8.9683e-04 - accuracy: 1.0000 - val_loss: 0.1480 - val_accuracy: 0.9685\n",
      "Epoch 57/100\n",
      "49500/49500 [==============================] - 6s 120us/sample - loss: 8.8256e-04 - accuracy: 1.0000 - val_loss: 0.1486 - val_accuracy: 0.9687\n",
      "Epoch 58/100\n",
      "49500/49500 [==============================] - 6s 121us/sample - loss: 8.6931e-04 - accuracy: 1.0000 - val_loss: 0.1484 - val_accuracy: 0.9691\n",
      "Epoch 59/100\n",
      "49500/49500 [==============================] - 6s 121us/sample - loss: 8.5569e-04 - accuracy: 1.0000 - val_loss: 0.1484 - val_accuracy: 0.9689\n",
      "Epoch 60/100\n",
      "49500/49500 [==============================] - 6s 116us/sample - loss: 8.4010e-04 - accuracy: 1.0000 - val_loss: 0.1488 - val_accuracy: 0.9689\n",
      "Epoch 61/100\n",
      "49500/49500 [==============================] - 6s 117us/sample - loss: 8.2797e-04 - accuracy: 1.0000 - val_loss: 0.1492 - val_accuracy: 0.9695\n",
      "Epoch 62/100\n",
      "49500/49500 [==============================] - 6s 115us/sample - loss: 8.1259e-04 - accuracy: 1.0000 - val_loss: 0.1498 - val_accuracy: 0.9693\n",
      "Epoch 63/100\n",
      "49500/49500 [==============================] - 6s 115us/sample - loss: 8.0353e-04 - accuracy: 1.0000 - val_loss: 0.1493 - val_accuracy: 0.9691\n",
      "Epoch 64/100\n",
      "49500/49500 [==============================] - 6s 121us/sample - loss: 7.9003e-04 - accuracy: 1.0000 - val_loss: 0.1497 - val_accuracy: 0.9691\n",
      "Epoch 65/100\n",
      "49500/49500 [==============================] - 6s 129us/sample - loss: 7.7964e-04 - accuracy: 1.0000 - val_loss: 0.1498 - val_accuracy: 0.9693\n",
      "Epoch 66/100\n",
      "49500/49500 [==============================] - 6s 128us/sample - loss: 7.6669e-04 - accuracy: 1.0000 - val_loss: 0.1497 - val_accuracy: 0.9687\n",
      "Epoch 67/100\n",
      "49500/49500 [==============================] - 7s 134us/sample - loss: 7.5707e-04 - accuracy: 1.0000 - val_loss: 0.1496 - val_accuracy: 0.9693\n",
      "Epoch 68/100\n",
      "49500/49500 [==============================] - 6s 131us/sample - loss: 7.4580e-04 - accuracy: 1.0000 - val_loss: 0.1501 - val_accuracy: 0.9691\n",
      "Epoch 69/100\n",
      "49500/49500 [==============================] - 6s 130us/sample - loss: 7.3537e-04 - accuracy: 1.0000 - val_loss: 0.1504 - val_accuracy: 0.9695\n",
      "Epoch 70/100\n",
      "49500/49500 [==============================] - 8s 160us/sample - loss: 7.2512e-04 - accuracy: 1.0000 - val_loss: 0.1506 - val_accuracy: 0.9691\n",
      "Epoch 71/100\n",
      "49500/49500 [==============================] - 8s 172us/sample - loss: 7.1572e-04 - accuracy: 1.0000 - val_loss: 0.1508 - val_accuracy: 0.9693\n",
      "Epoch 72/100\n",
      "49500/49500 [==============================] - 8s 158us/sample - loss: 7.0506e-04 - accuracy: 1.0000 - val_loss: 0.1508 - val_accuracy: 0.9689\n",
      "Epoch 73/100\n",
      "49500/49500 [==============================] - 8s 157us/sample - loss: 6.9605e-04 - accuracy: 1.0000 - val_loss: 0.1510 - val_accuracy: 0.9695\n",
      "Epoch 74/100\n",
      "49500/49500 [==============================] - 8s 171us/sample - loss: 6.8572e-04 - accuracy: 1.0000 - val_loss: 0.1506 - val_accuracy: 0.9687\n",
      "Epoch 75/100\n",
      "49500/49500 [==============================] - 8s 160us/sample - loss: 6.7775e-04 - accuracy: 1.0000 - val_loss: 0.1513 - val_accuracy: 0.9693\n",
      "Epoch 76/100\n",
      "49500/49500 [==============================] - 8s 157us/sample - loss: 6.6807e-04 - accuracy: 1.0000 - val_loss: 0.1514 - val_accuracy: 0.9695\n",
      "Epoch 77/100\n",
      "49500/49500 [==============================] - 8s 157us/sample - loss: 6.5967e-04 - accuracy: 1.0000 - val_loss: 0.1513 - val_accuracy: 0.9693\n",
      "Epoch 78/100\n",
      "49500/49500 [==============================] - 7s 151us/sample - loss: 6.5196e-04 - accuracy: 1.0000 - val_loss: 0.1516 - val_accuracy: 0.9693\n",
      "Epoch 79/100\n",
      "49500/49500 [==============================] - 8s 153us/sample - loss: 6.4347e-04 - accuracy: 1.0000 - val_loss: 0.1516 - val_accuracy: 0.9695\n",
      "Epoch 80/100\n",
      "49500/49500 [==============================] - 8s 155us/sample - loss: 6.3519e-04 - accuracy: 1.0000 - val_loss: 0.1518 - val_accuracy: 0.9691\n",
      "Epoch 81/100\n",
      "49500/49500 [==============================] - 8s 163us/sample - loss: 6.2703e-04 - accuracy: 1.0000 - val_loss: 0.1519 - val_accuracy: 0.9695\n",
      "Epoch 82/100\n",
      "49500/49500 [==============================] - 8s 156us/sample - loss: 6.1873e-04 - accuracy: 1.0000 - val_loss: 0.1519 - val_accuracy: 0.9696\n",
      "Epoch 83/100\n",
      "49500/49500 [==============================] - 8s 161us/sample - loss: 6.1229e-04 - accuracy: 1.0000 - val_loss: 0.1519 - val_accuracy: 0.9696\n",
      "Epoch 84/100\n",
      "49500/49500 [==============================] - 8s 165us/sample - loss: 6.0456e-04 - accuracy: 1.0000 - val_loss: 0.1525 - val_accuracy: 0.9695\n",
      "Epoch 85/100\n",
      "49500/49500 [==============================] - 7s 149us/sample - loss: 5.9718e-04 - accuracy: 1.0000 - val_loss: 0.1525 - val_accuracy: 0.9693\n",
      "Epoch 86/100\n",
      "49500/49500 [==============================] - 7s 140us/sample - loss: 5.9043e-04 - accuracy: 1.0000 - val_loss: 0.1526 - val_accuracy: 0.9693\n",
      "Epoch 87/100\n",
      "49500/49500 [==============================] - 7s 140us/sample - loss: 5.8327e-04 - accuracy: 1.0000 - val_loss: 0.1524 - val_accuracy: 0.9696\n",
      "Epoch 88/100\n",
      "49500/49500 [==============================] - 7s 142us/sample - loss: 5.7654e-04 - accuracy: 1.0000 - val_loss: 0.1532 - val_accuracy: 0.9691\n",
      "Epoch 89/100\n",
      "49500/49500 [==============================] - 8s 158us/sample - loss: 5.7078e-04 - accuracy: 1.0000 - val_loss: 0.1533 - val_accuracy: 0.9691\n",
      "Epoch 90/100\n",
      "49500/49500 [==============================] - 8s 155us/sample - loss: 5.6372e-04 - accuracy: 1.0000 - val_loss: 0.1531 - val_accuracy: 0.9693\n",
      "Epoch 91/100\n",
      "49500/49500 [==============================] - 8s 154us/sample - loss: 5.5675e-04 - accuracy: 1.0000 - val_loss: 0.1528 - val_accuracy: 0.9693\n",
      "Epoch 92/100\n",
      "49500/49500 [==============================] - 8s 157us/sample - loss: 5.5153e-04 - accuracy: 1.0000 - val_loss: 0.1532 - val_accuracy: 0.9696\n",
      "Epoch 93/100\n",
      "49500/49500 [==============================] - 8s 158us/sample - loss: 5.4441e-04 - accuracy: 1.0000 - val_loss: 0.1538 - val_accuracy: 0.9695\n",
      "Epoch 94/100\n",
      "49500/49500 [==============================] - 8s 159us/sample - loss: 5.3886e-04 - accuracy: 1.0000 - val_loss: 0.1535 - val_accuracy: 0.9693\n",
      "Epoch 95/100\n",
      "49500/49500 [==============================] - 8s 166us/sample - loss: 5.3310e-04 - accuracy: 1.0000 - val_loss: 0.1534 - val_accuracy: 0.9695\n",
      "Epoch 96/100\n",
      "49500/49500 [==============================] - 8s 156us/sample - loss: 5.2731e-04 - accuracy: 1.0000 - val_loss: 0.1537 - val_accuracy: 0.9695\n",
      "Epoch 97/100\n",
      "49500/49500 [==============================] - 8s 158us/sample - loss: 5.2166e-04 - accuracy: 1.0000 - val_loss: 0.1535 - val_accuracy: 0.9693\n",
      "Epoch 98/100\n",
      "49500/49500 [==============================] - 7s 132us/sample - loss: 5.1551e-04 - accuracy: 1.0000 - val_loss: 0.1541 - val_accuracy: 0.9693\n",
      "Epoch 99/100\n",
      "49500/49500 [==============================] - 5s 108us/sample - loss: 5.1054e-04 - accuracy: 1.0000 - val_loss: 0.1542 - val_accuracy: 0.9693\n",
      "Epoch 100/100\n",
      "49500/49500 [==============================] - 6s 112us/sample - loss: 5.0482e-04 - accuracy: 1.0000 - val_loss: 0.1544 - val_accuracy: 0.9693\n"
     ]
    }
   ],
   "source": [
    "history2 = model.fit(X_train, Y_train, epochs=100, batch_size=32, validation_split=0.1, initial_epoch=50)"
   ]
  },
  {
   "cell_type": "code",
   "execution_count": 24,
   "metadata": {},
   "outputs": [
    {
     "name": "stdout",
     "output_type": "stream",
     "text": [
      "10000/10000 [==============================] - 0s 38us/sample - loss: 0.1237 - accuracy: 0.9722\n"
     ]
    }
   ],
   "source": [
    "loss_and_metrics = model.evaluate(x_test, y_test)"
   ]
  },
  {
   "cell_type": "code",
   "execution_count": 27,
   "metadata": {},
   "outputs": [
    {
     "data": {
      "text/plain": [
       "array([[0., 0., 0., 0., 0., 0., 0., 1., 0., 0.],\n",
       "       [0., 0., 1., 0., 0., 0., 0., 0., 0., 0.],\n",
       "       [0., 1., 0., 0., 0., 0., 0., 0., 0., 0.],\n",
       "       [1., 0., 0., 0., 0., 0., 0., 0., 0., 0.],\n",
       "       [0., 0., 0., 0., 1., 0., 0., 0., 0., 0.]], dtype=float32)"
      ]
     },
     "execution_count": 27,
     "metadata": {},
     "output_type": "execute_result"
    }
   ],
   "source": [
    "X_new = x_test[:5]\n",
    "y_proba = model.predict(X_new).round(2)\n",
    "y_proba"
   ]
  },
  {
   "cell_type": "code",
   "execution_count": 28,
   "metadata": {},
   "outputs": [
    {
     "data": {
      "text/plain": [
       "array([7, 2, 1, 0, 4], dtype=int64)"
      ]
     },
     "execution_count": 28,
     "metadata": {},
     "output_type": "execute_result"
    }
   ],
   "source": [
    "y_pred = model.predict_classes(X_new)\n",
    "y_pred"
   ]
  },
  {
   "cell_type": "code",
   "execution_count": 29,
   "metadata": {},
   "outputs": [
    {
     "data": {
      "text/plain": [
       "array(['8', '2', '1', '0', '4'], dtype='<U1')"
      ]
     },
     "execution_count": 29,
     "metadata": {},
     "output_type": "execute_result"
    }
   ],
   "source": [
    "np.array(class_names)[y_pred]"
   ]
  },
  {
   "cell_type": "code",
   "execution_count": 30,
   "metadata": {},
   "outputs": [
    {
     "data": {
      "text/plain": [
       "array([7, 2, 1, 0, 4], dtype=uint8)"
      ]
     },
     "execution_count": 30,
     "metadata": {},
     "output_type": "execute_result"
    }
   ],
   "source": [
    "y_test[:5]"
   ]
  },
  {
   "cell_type": "code",
   "execution_count": 31,
   "metadata": {},
   "outputs": [],
   "source": [
    "model.save('keras_mnist.h5') #En formato HDF5"
   ]
  },
  {
   "cell_type": "code",
   "execution_count": null,
   "metadata": {},
   "outputs": [],
   "source": []
  }
 ],
 "metadata": {
  "kernelspec": {
   "display_name": "Python 3",
   "language": "python",
   "name": "python3"
  },
  "language_info": {
   "codemirror_mode": {
    "name": "ipython",
    "version": 3
   },
   "file_extension": ".py",
   "mimetype": "text/x-python",
   "name": "python",
   "nbconvert_exporter": "python",
   "pygments_lexer": "ipython3",
   "version": "3.7.3"
  }
 },
 "nbformat": 4,
 "nbformat_minor": 2
}
