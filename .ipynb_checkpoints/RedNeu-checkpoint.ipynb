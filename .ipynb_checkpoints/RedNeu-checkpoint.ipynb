{
 "cells": [
  {
   "cell_type": "code",
   "execution_count": 1,
   "metadata": {},
   "outputs": [],
   "source": [
    "import tensorflow as tf\n",
    "from tensorflow import keras\n",
    "import numpy as np\n",
    "import matplotlib.pyplot as plt\n",
    "from tensorflow.keras import layers\n",
    "from tensorflow.keras.callbacks import ModelCheckpoint"
   ]
  },
  {
   "cell_type": "code",
   "execution_count": 2,
   "metadata": {},
   "outputs": [],
   "source": [
    "mnist = tf.keras.datasets.mnist\n",
    "(x_train, y_train),(x_test, y_test) = mnist.load_data()"
   ]
  },
  {
   "cell_type": "code",
   "execution_count": 3,
   "metadata": {},
   "outputs": [
    {
     "data": {
      "text/plain": [
       "(60000, 28, 28)"
      ]
     },
     "execution_count": 3,
     "metadata": {},
     "output_type": "execute_result"
    }
   ],
   "source": [
    "x_train.shape"
   ]
  },
  {
   "cell_type": "code",
   "execution_count": 4,
   "metadata": {},
   "outputs": [
    {
     "data": {
      "text/plain": [
       "(60000,)"
      ]
     },
     "execution_count": 4,
     "metadata": {},
     "output_type": "execute_result"
    }
   ],
   "source": [
    "y_train.shape"
   ]
  },
  {
   "cell_type": "code",
   "execution_count": 5,
   "metadata": {},
   "outputs": [],
   "source": [
    "class_names = [\"0\", \"1\", \"2\", \"3\", \"4\",\n",
    "                   \"5\", \"7\", \"8\", \"9\"]"
   ]
  },
  {
   "cell_type": "code",
   "execution_count": 6,
   "metadata": {},
   "outputs": [
    {
     "data": {
      "image/png": "[encoded data removed]",
      "text/plain": [
       "<Figure size 720x720 with 25 Axes>"
      ]
     },
     "metadata": {},
     "output_type": "display_data"
    }
   ],
   "source": [
    "plt.figure(figsize=(10,10))\n",
    "for i in range(0,25):\n",
    "    plt.subplot(5,5, i+1)\n",
    "    plt.imshow(x_train[i])\n",
    "    #plt.imshow(X_train_full[i], cmap=plt.cm.binary)\n",
    "    plt.grid(False)\n",
    "    plt.xticks([])\n",
    "    plt.yticks([])\n",
    "plt.show()"
   ]
  },
  {
   "cell_type": "code",
   "execution_count": 7,
   "metadata": {},
   "outputs": [],
   "source": [
    "x_train=x_train/9\n",
    "x_test=x_test/9"
   ]
  },
  {
   "cell_type": "code",
   "execution_count": 8,
   "metadata": {},
   "outputs": [],
   "source": [
    "X_train=x_train[:55000]\n",
    "Y_train=y_train[:55000]\n",
    "\n",
    "X_validation=x_train[55000:]\n",
    "Y_validation=y_train[55000:]"
   ]
  },
  {
   "cell_type": "code",
   "execution_count": 9,
   "metadata": {},
   "outputs": [
    {
     "data": {
      "text/plain": [
       "(5000, 28, 28)"
      ]
     },
     "execution_count": 9,
     "metadata": {},
     "output_type": "execute_result"
    }
   ],
   "source": [
    "X_validation.shape"
   ]
  },
  {
   "cell_type": "code",
   "execution_count": 10,
   "metadata": {},
   "outputs": [
    {
     "data": {
      "text/plain": [
       "(55000, 28, 28)"
      ]
     },
     "execution_count": 10,
     "metadata": {},
     "output_type": "execute_result"
    }
   ],
   "source": [
    "X_train.shape"
   ]
  },
  {
   "cell_type": "code",
   "execution_count": 11,
   "metadata": {},
   "outputs": [],
   "source": [
    "model=keras.models.Sequential()\n",
    "model.add(layers.Flatten(input_shape=[28,28], name='faltten_layer'))\n",
    "model.add(layers.Dense(units=400, activation=\"relu\", name='hl0'))\n",
    "model.add(layers.Dense(units=400, activation=\"relu\", name='hl1'))\n",
    "model.add(layers.Dense(units=400, activation=\"relu\", name='hl2'))\n",
    "model.add(layers.Dense(units=400, activation=\"relu\", name='hl3'))\n",
    "model.add(layers.Dropout(0.2))\n",
    "model.add(layers.Dense(units=10, activation=\"softmax\", name='output_layer'))"
   ]
  },
  {
   "cell_type": "code",
   "execution_count": 12,
   "metadata": {},
   "outputs": [
    {
     "name": "stdout",
     "output_type": "stream",
     "text": [
      "Model: \"sequential\"\n",
      "_________________________________________________________________\n",
      "Layer (type)                 Output Shape              Param #   \n",
      "=================================================================\n",
      "faltten_layer (Flatten)      (None, 784)               0         \n",
      "_________________________________________________________________\n",
      "hl0 (Dense)                  (None, 400)               314000    \n",
      "_________________________________________________________________\n",
      "hl1 (Dense)                  (None, 400)               160400    \n",
      "_________________________________________________________________\n",
      "hl2 (Dense)                  (None, 400)               160400    \n",
      "_________________________________________________________________\n",
      "hl3 (Dense)                  (None, 400)               160400    \n",
      "_________________________________________________________________\n",
      "dropout (Dropout)            (None, 400)               0         \n",
      "_________________________________________________________________\n",
      "output_layer (Dense)         (None, 10)                4010      \n",
      "=================================================================\n",
      "Total params: 799,210\n",
      "Trainable params: 799,210\n",
      "Non-trainable params: 0\n",
      "_________________________________________________________________\n"
     ]
    }
   ],
   "source": [
    "model.summary()"
   ]
  },
  {
   "cell_type": "code",
   "execution_count": 13,
   "metadata": {},
   "outputs": [
    {
     "data": {
      "text/plain": [
       "[<tensorflow.python.keras.layers.core.Flatten at 0x1ea9e7f15f8>,\n",
       " <tensorflow.python.keras.layers.core.Dense at 0x1ea9e7f10b8>,\n",
       " <tensorflow.python.keras.layers.core.Dense at 0x1ea9e7f1be0>,\n",
       " <tensorflow.python.keras.layers.core.Dense at 0x1ea9ab77a20>,\n",
       " <tensorflow.python.keras.layers.core.Dense at 0x1ea9ab77f98>,\n",
       " <tensorflow.python.keras.layers.core.Dropout at 0x1ea9aba6e80>,\n",
       " <tensorflow.python.keras.layers.core.Dense at 0x1ea9acc5cc0>]"
      ]
     },
     "execution_count": 13,
     "metadata": {},
     "output_type": "execute_result"
    }
   ],
   "source": [
    "model.layers"
   ]
  },
  {
   "cell_type": "code",
   "execution_count": 14,
   "metadata": {},
   "outputs": [],
   "source": [
    "model.compile(loss='sparse_categorical_crossentropy',\n",
    "              optimizer='sgd',\n",
    "              metrics=['accuracy'])"
   ]
  },
  {
   "cell_type": "code",
   "execution_count": 15,
   "metadata": {},
   "outputs": [
    {
     "name": "stdout",
     "output_type": "stream",
     "text": [
      "Train on 49500 samples, validate on 5500 samples\n",
      "Epoch 1/50\n",
      "49500/49500 [==============================] - 4s 87us/sample - loss: 0.6222 - accuracy: 0.8124 - val_loss: 0.2972 - val_accuracy: 0.9120\n",
      "Epoch 2/50\n",
      "49500/49500 [==============================] - 4s 86us/sample - loss: 0.2803 - accuracy: 0.9132 - val_loss: 0.2313 - val_accuracy: 0.9324\n",
      "Epoch 3/50\n",
      "49500/49500 [==============================] - 4s 89us/sample - loss: 0.2176 - accuracy: 0.9324 - val_loss: 0.2002 - val_accuracy: 0.9424\n",
      "Epoch 4/50\n",
      "49500/49500 [==============================] - 4s 86us/sample - loss: 0.1758 - accuracy: 0.9453 - val_loss: 0.1823 - val_accuracy: 0.9469\n",
      "Epoch 5/50\n",
      "49500/49500 [==============================] - 4s 88us/sample - loss: 0.1510 - accuracy: 0.9533 - val_loss: 0.1701 - val_accuracy: 0.9515\n",
      "Epoch 6/50\n",
      "49500/49500 [==============================] - 4s 87us/sample - loss: 0.1339 - accuracy: 0.9591 - val_loss: 0.1628 - val_accuracy: 0.9556\n",
      "Epoch 7/50\n",
      "49500/49500 [==============================] - 4s 85us/sample - loss: 0.1204 - accuracy: 0.9629 - val_loss: 0.1552 - val_accuracy: 0.9551\n",
      "Epoch 8/50\n",
      "49500/49500 [==============================] - 4s 83us/sample - loss: 0.1078 - accuracy: 0.9676 - val_loss: 0.1498 - val_accuracy: 0.9580\n",
      "Epoch 9/50\n",
      "49500/49500 [==============================] - 4s 85us/sample - loss: 0.0996 - accuracy: 0.9692 - val_loss: 0.1420 - val_accuracy: 0.9613\n",
      "Epoch 10/50\n",
      "49500/49500 [==============================] - 4s 85us/sample - loss: 0.0910 - accuracy: 0.9718 - val_loss: 0.1402 - val_accuracy: 0.9604\n",
      "Epoch 11/50\n",
      "49500/49500 [==============================] - 4s 83us/sample - loss: 0.0816 - accuracy: 0.9752 - val_loss: 0.1327 - val_accuracy: 0.9611\n",
      "Epoch 12/50\n",
      "49500/49500 [==============================] - 4s 84us/sample - loss: 0.0755 - accuracy: 0.9768 - val_loss: 0.1350 - val_accuracy: 0.9613\n",
      "Epoch 13/50\n",
      "49500/49500 [==============================] - 4s 85us/sample - loss: 0.0695 - accuracy: 0.9785 - val_loss: 0.1316 - val_accuracy: 0.9631\n",
      "Epoch 14/50\n",
      "49500/49500 [==============================] - 4s 87us/sample - loss: 0.0646 - accuracy: 0.9802 - val_loss: 0.1309 - val_accuracy: 0.9651\n",
      "Epoch 15/50\n",
      "49500/49500 [==============================] - 4s 87us/sample - loss: 0.0620 - accuracy: 0.9807 - val_loss: 0.1259 - val_accuracy: 0.9665\n",
      "Epoch 16/50\n",
      "49500/49500 [==============================] - 4s 83us/sample - loss: 0.0560 - accuracy: 0.9827 - val_loss: 0.1267 - val_accuracy: 0.9642\n",
      "Epoch 17/50\n",
      "49500/49500 [==============================] - 4s 85us/sample - loss: 0.0518 - accuracy: 0.9845 - val_loss: 0.1240 - val_accuracy: 0.9655\n",
      "Epoch 18/50\n",
      "49500/49500 [==============================] - 4s 84us/sample - loss: 0.0492 - accuracy: 0.9854 - val_loss: 0.1219 - val_accuracy: 0.9664\n",
      "Epoch 19/50\n",
      "49500/49500 [==============================] - 4s 88us/sample - loss: 0.0464 - accuracy: 0.9859 - val_loss: 0.1216 - val_accuracy: 0.9676\n",
      "Epoch 20/50\n",
      "49500/49500 [==============================] - 4s 85us/sample - loss: 0.0435 - accuracy: 0.9871 - val_loss: 0.1207 - val_accuracy: 0.9685\n",
      "Epoch 21/50\n",
      "49500/49500 [==============================] - 5s 91us/sample - loss: 0.0409 - accuracy: 0.9879 - val_loss: 0.1215 - val_accuracy: 0.9675\n",
      "Epoch 22/50\n",
      "49500/49500 [==============================] - 4s 86us/sample - loss: 0.0378 - accuracy: 0.9891 - val_loss: 0.1205 - val_accuracy: 0.9671\n",
      "Epoch 23/50\n",
      "49500/49500 [==============================] - 4s 85us/sample - loss: 0.0364 - accuracy: 0.9893 - val_loss: 0.1194 - val_accuracy: 0.9702\n",
      "Epoch 24/50\n",
      "49500/49500 [==============================] - 4s 86us/sample - loss: 0.0346 - accuracy: 0.9900 - val_loss: 0.1190 - val_accuracy: 0.9684\n",
      "Epoch 25/50\n",
      "49500/49500 [==============================] - 4s 85us/sample - loss: 0.0325 - accuracy: 0.9906 - val_loss: 0.1189 - val_accuracy: 0.9693\n",
      "Epoch 26/50\n",
      "49500/49500 [==============================] - 4s 86us/sample - loss: 0.0299 - accuracy: 0.9921 - val_loss: 0.1184 - val_accuracy: 0.9693\n",
      "Epoch 27/50\n",
      "49500/49500 [==============================] - 4s 86us/sample - loss: 0.0274 - accuracy: 0.9926 - val_loss: 0.1188 - val_accuracy: 0.9680\n",
      "Epoch 28/50\n",
      "49500/49500 [==============================] - 4s 87us/sample - loss: 0.0271 - accuracy: 0.9925 - val_loss: 0.1194 - val_accuracy: 0.9684\n",
      "Epoch 29/50\n",
      "49500/49500 [==============================] - 4s 87us/sample - loss: 0.0254 - accuracy: 0.9935 - val_loss: 0.1167 - val_accuracy: 0.9676\n",
      "Epoch 30/50\n",
      "49500/49500 [==============================] - 4s 88us/sample - loss: 0.0247 - accuracy: 0.9933 - val_loss: 0.1163 - val_accuracy: 0.9704\n",
      "Epoch 31/50\n",
      "49500/49500 [==============================] - 4s 85us/sample - loss: 0.0227 - accuracy: 0.9941 - val_loss: 0.1183 - val_accuracy: 0.9689\n",
      "Epoch 32/50\n",
      "49500/49500 [==============================] - 4s 88us/sample - loss: 0.0216 - accuracy: 0.9944 - val_loss: 0.1185 - val_accuracy: 0.9702\n",
      "Epoch 33/50\n",
      "49500/49500 [==============================] - 4s 86us/sample - loss: 0.0203 - accuracy: 0.9949 - val_loss: 0.1158 - val_accuracy: 0.9693\n",
      "Epoch 34/50\n",
      "49500/49500 [==============================] - 4s 88us/sample - loss: 0.0198 - accuracy: 0.9953 - val_loss: 0.1177 - val_accuracy: 0.9705\n",
      "Epoch 35/50\n",
      "49500/49500 [==============================] - 4s 86us/sample - loss: 0.0186 - accuracy: 0.9957 - val_loss: 0.1185 - val_accuracy: 0.9695\n",
      "Epoch 36/50\n",
      "49500/49500 [==============================] - 4s 83us/sample - loss: 0.0176 - accuracy: 0.9957 - val_loss: 0.1189 - val_accuracy: 0.9698\n",
      "Epoch 37/50\n",
      "49500/49500 [==============================] - 4s 82us/sample - loss: 0.0175 - accuracy: 0.9955 - val_loss: 0.1170 - val_accuracy: 0.9705\n",
      "Epoch 38/50\n",
      "49500/49500 [==============================] - 4s 84us/sample - loss: 0.0165 - accuracy: 0.9963 - val_loss: 0.1199 - val_accuracy: 0.9707\n",
      "Epoch 39/50\n",
      "49500/49500 [==============================] - 4s 84us/sample - loss: 0.0162 - accuracy: 0.9961 - val_loss: 0.1182 - val_accuracy: 0.9700\n",
      "Epoch 40/50\n",
      "49500/49500 [==============================] - 4s 83us/sample - loss: 0.0151 - accuracy: 0.9964 - val_loss: 0.1203 - val_accuracy: 0.9711\n",
      "Epoch 41/50\n",
      "49500/49500 [==============================] - 4s 85us/sample - loss: 0.0141 - accuracy: 0.9972 - val_loss: 0.1214 - val_accuracy: 0.9713\n",
      "Epoch 42/50\n",
      "49500/49500 [==============================] - 4s 84us/sample - loss: 0.0139 - accuracy: 0.9966 - val_loss: 0.1205 - val_accuracy: 0.9702\n",
      "Epoch 43/50\n",
      "49500/49500 [==============================] - 4s 90us/sample - loss: 0.0139 - accuracy: 0.9968 - val_loss: 0.1189 - val_accuracy: 0.9713\n",
      "Epoch 44/50\n",
      "49500/49500 [==============================] - 4s 87us/sample - loss: 0.0129 - accuracy: 0.9969 - val_loss: 0.1203 - val_accuracy: 0.9711\n",
      "Epoch 45/50\n",
      "49500/49500 [==============================] - 4s 88us/sample - loss: 0.0118 - accuracy: 0.9975 - val_loss: 0.1187 - val_accuracy: 0.9709\n",
      "Epoch 46/50\n",
      "49500/49500 [==============================] - 4s 86us/sample - loss: 0.0120 - accuracy: 0.9973 - val_loss: 0.1202 - val_accuracy: 0.9715\n",
      "Epoch 47/50\n",
      "49500/49500 [==============================] - 4s 85us/sample - loss: 0.0117 - accuracy: 0.9974 - val_loss: 0.1195 - val_accuracy: 0.9707\n",
      "Epoch 48/50\n",
      "49500/49500 [==============================] - 4s 84us/sample - loss: 0.0108 - accuracy: 0.9979 - val_loss: 0.1194 - val_accuracy: 0.9718\n",
      "Epoch 49/50\n",
      "49500/49500 [==============================] - 4s 86us/sample - loss: 0.0112 - accuracy: 0.9976 - val_loss: 0.1211 - val_accuracy: 0.9716\n",
      "Epoch 50/50\n",
      "49500/49500 [==============================] - 4s 88us/sample - loss: 0.0103 - accuracy: 0.9978 - val_loss: 0.1193 - val_accuracy: 0.9711\n"
     ]
    }
   ],
   "source": [
    "history = model.fit(X_train, Y_train,\n",
    "                    epochs=50,\n",
    "                    batch_size=40,\n",
    "                    validation_split=0.1)"
   ]
  },
  {
   "cell_type": "code",
   "execution_count": 16,
   "metadata": {},
   "outputs": [
    {
     "data": {
      "image/png": "[encoded data removed]",
      "text/plain": [
       "<Figure size 1080x576 with 1 Axes>"
      ]
     },
     "metadata": {
      "needs_background": "light"
     },
     "output_type": "display_data"
    }
   ],
   "source": [
    "import pandas as pd\n",
    "pd.DataFrame(history.history).plot(figsize=(15, 8))\n",
    "plt.grid(True)\n",
    "plt.gca().set_ylim(0, 1) # set the vertical range to [0-1]\n",
    "plt.show()"
   ]
  },
  {
   "cell_type": "code",
   "execution_count": 17,
   "metadata": {},
   "outputs": [
    {
     "name": "stdout",
     "output_type": "stream",
     "text": [
      "Train on 49500 samples, validate on 5500 samples\n"
     ]
    }
   ],
   "source": [
    "history2 = model.fit(X_train, Y_train, epochs=10, batch_size=32, validation_split=0.1, initial_epoch=40)"
   ]
  },
  {
   "cell_type": "code",
   "execution_count": 18,
   "metadata": {},
   "outputs": [
    {
     "name": "stdout",
     "output_type": "stream",
     "text": [
      "10000/10000 [==============================] - 0s 33us/sample - loss: 0.0891 - accuracy: 0.9739\n"
     ]
    }
   ],
   "source": [
    "loss_and_metrics = model.evaluate(x_test, y_test)"
   ]
  },
  {
   "cell_type": "code",
   "execution_count": 19,
   "metadata": {},
   "outputs": [
    {
     "data": {
      "text/plain": [
       "array([[0., 0., 0., 0., 0., 0., 0., 1., 0., 0.],\n",
       "       [0., 0., 1., 0., 0., 0., 0., 0., 0., 0.],\n",
       "       [0., 1., 0., 0., 0., 0., 0., 0., 0., 0.],\n",
       "       [1., 0., 0., 0., 0., 0., 0., 0., 0., 0.],\n",
       "       [0., 0., 0., 0., 1., 0., 0., 0., 0., 0.]], dtype=float32)"
      ]
     },
     "execution_count": 19,
     "metadata": {},
     "output_type": "execute_result"
    }
   ],
   "source": [
    "X_new = x_test[:5]\n",
    "y_proba = model.predict(X_new).round(2)\n",
    "y_proba"
   ]
  },
  {
   "cell_type": "code",
   "execution_count": 20,
   "metadata": {},
   "outputs": [
    {
     "data": {
      "text/plain": [
       "array([7, 2, 1, 0, 4], dtype=int64)"
      ]
     },
     "execution_count": 20,
     "metadata": {},
     "output_type": "execute_result"
    }
   ],
   "source": [
    "y_pred = model.predict_classes(X_new)\n",
    "y_pred"
   ]
  },
  {
   "cell_type": "code",
   "execution_count": 21,
   "metadata": {},
   "outputs": [
    {
     "data": {
      "text/plain": [
       "array(['8', '2', '1', '0', '4'], dtype='<U1')"
      ]
     },
     "execution_count": 21,
     "metadata": {},
     "output_type": "execute_result"
    }
   ],
   "source": [
    "np.array(class_names)[y_pred]"
   ]
  },
  {
   "cell_type": "code",
   "execution_count": 22,
   "metadata": {},
   "outputs": [
    {
     "data": {
      "text/plain": [
       "array([7, 2, 1, 0, 4], dtype=uint8)"
      ]
     },
     "execution_count": 22,
     "metadata": {},
     "output_type": "execute_result"
    }
   ],
   "source": [
    "y_test[:5]"
   ]
  },
  {
   "cell_type": "code",
   "execution_count": 23,
   "metadata": {},
   "outputs": [],
   "source": [
    "model.save('keras_mnist.h5') #En formato HDF5"
   ]
  },
  {
   "cell_type": "code",
   "execution_count": null,
   "metadata": {},
   "outputs": [],
   "source": []
  }
 ],
 "metadata": {
  "kernelspec": {
   "display_name": "Python 3",
   "language": "python",
   "name": "python3"
  },
  "language_info": {
   "codemirror_mode": {
    "name": "ipython",
    "version": 3
   },
   "file_extension": ".py",
   "mimetype": "text/x-python",
   "name": "python",
   "nbconvert_exporter": "python",
   "pygments_lexer": "ipython3",
   "version": "3.7.3"
  }
 },
 "nbformat": 4,
 "nbformat_minor": 2
}
